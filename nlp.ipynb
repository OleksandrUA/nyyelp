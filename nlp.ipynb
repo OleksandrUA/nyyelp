{
 "cells": [
  {
   "cell_type": "markdown",
   "metadata": {},
   "source": [
    "# main project\n",
    "\n",
    "#### goal:\n",
    "Predict review rating (stars) by textual-content using pretrained GLOVE word embeddings+N layers deep LSTM network. Visualize (potencial clusters) on a 2D space using t-SNE.\n",
    "\n",
    "#### Steps:  \n",
    "1) Process .text data from yelp review-documents\n",
    "- filter to leave english-only reviews\n",
    "- balance the dataset (use similar amount of data for each star rating (1,2,3,4,5*)\n",
    "- balance the dataset by review length, so the length distribution of reviews for each rating-class is atleast similar (bucketing might be a good idea)\n",
    "\n",
    "2) Process text for deep-learning\n",
    "- bring  GLOVE embeddings to a reasonable form\n",
    "- Tokenize each review \n",
    "- transform reviews into tokenized sequences\n",
    "- Pad sequences to a fixed length\n",
    "- Prepare the embedding weight-matrix to be used in the Embedding layer (we will not train this layer)\n",
    "- split into test and train\n",
    "\n",
    "\n",
    "3) Deep learning\n",
    "- loss function, regression(rmse) or classification(logloss) big question\n",
    "- prepare architecture (2-3 LSTM layers -> Dense)\n",
    "- train, wish for the best\n",
    "\n",
    "4) Post learning\n",
    "- extract features from last LSTM layer\n",
    "- try casting to 2D space using t-SNE\n",
    "\n",
    "\n",
    "5) Remarks\n",
    "- we have to limit the amount of data, bc of memory issues possible solution is to save the sequences into HDF and flowing from disk during training\n",
    "\n",
    "\n",
    "6) \n"
   ]
  },
  {
   "cell_type": "code",
   "execution_count": 118,
   "metadata": {
    "collapsed": false
   },
   "outputs": [],
   "source": [
    "import pandas as pd\n",
    "import pandas as pd\n",
    "import json\n",
    "import os\n",
    "import seaborn as sns\n",
    "import collections\n",
    "import scipy.sparse as sp\n",
    "import matplotlib.pyplot as plt\n",
    "import itertools\n",
    "import numpy as np\n",
    "import langdetect\n",
    "import seaborn\n",
    "import operator\n",
    "from keras.preprocessing.text import Tokenizer\n",
    "from keras.preprocessing.sequence import pad_sequences\n",
    "from keras.utils.np_utils import to_categorical\n",
    "import joblib\n",
    "from sklearn.model_selection import train_test_split\n",
    "\n",
    "from keras.datasets import imdb\n",
    "from keras.models import Sequential\n",
    "from keras.layers import Dense\n",
    "from keras.layers import LSTM, GRU\n",
    "from keras.layers import Flatten\n",
    "from keras.layers import Dropout\n",
    "from keras.layers.convolutional import Convolution1D\n",
    "from keras.layers.convolutional import MaxPooling1D\n",
    "from keras.layers.embeddings import Embedding\n",
    "from keras.preprocessing import sequence\n",
    "import keras.backend as K\n",
    "from keras.callbacks import ModelCheckpoint\n",
    "\n",
    "\n",
    "%matplotlib inline\n",
    "\n",
    "\n",
    "\n",
    "BASE_DIR = ''\n",
    "GLOVE_DIR = 'glove.6B.100d.txt'\n",
    "MAX_SEQUENCE_LENGTH = 1000\n",
    "MAX_NB_WORDS = 20000\n",
    "EMBEDDING_DIM = int(''.join([s for s in GLOVE_DIR.split('/')[-1].split('.')[-2] if s.isdigit()])) # 100\n",
    "VALIDATION_SPLIT = 0.2\n",
    "PRELOAD = False\n",
    "# first, build index mapping words in the embeddings set\n",
    "# to their embedding vector\n",
    "\n",
    "# print('Indexing word vectors.')\n",
    "\n",
    "# embeddings_index = {}\n",
    "# f = open(os.path.join(GLOVE_DIR, 'glove.6B.100d.txt'))\n",
    "# for line in f:\n",
    "#     values = line.split()\n",
    "#     word = values[0]\n",
    "#     coefs = np.asarray(values[1:], dtype='float32')\n",
    "#     embeddings_index[word] = coefs\n",
    "# f.close()"
   ]
  },
  {
   "cell_type": "code",
   "execution_count": 8,
   "metadata": {
    "collapsed": true
   },
   "outputs": [],
   "source": [
    "#helpers\n",
    "\n",
    "def minority_balance_dataframe_by_multiple_categorical_variables(df, categorical_columns=None, downsample_by=0.1):\n",
    "    \"\"\"\n",
    "    :param df: pandas.DataFrame\n",
    "    :param categorical_columns: iterable of categorical columns names contained in {df}\n",
    "    :return: balanced pandas.DataFrame\n",
    "    \"\"\"\n",
    "    if categorical_columns is None or not all([c in df.columns for c in categorical_columns]):\n",
    "        raise ValueError('Please provide one or more columns containing categorical variables')\n",
    "\n",
    "    minority_class_combination_count = df.groupby(categorical_columns).apply(lambda x: x.shape[0]).min()\n",
    "    \n",
    "    minority_class_combination_count = int(minority_class_combination_count * downsample_by)\n",
    "    \n",
    "    df = df.groupby(categorical_columns).apply(\n",
    "        lambda x: x.sample(minority_class_combination_count)\n",
    "    ).drop(categorical_columns, axis=1).reset_index().set_index('level_1')\n",
    "\n",
    "    df.sort_index(inplace=True)\n",
    "\n",
    "    return df\n",
    "\n",
    "\n",
    "def load_glove_into_dict(glove_path):\n",
    "    \"\"\"\n",
    "    loads glove file into a handy python-dict representation, where a word is a key with a corresponding N-dim vector\n",
    "    http://nlp.stanford.edu/data/glove.6B.zip (pretrained-embeddings)\n",
    "    \"\"\"\n",
    "    embeddings_ix = {}\n",
    "    with open(glove_path) as glove_file:\n",
    "        for line in glove_file:\n",
    "            val = line.split()\n",
    "            word = val[0]\n",
    "            vec = np.asarray(val[1:], dtype='float32')\n",
    "            embeddings_ix[word] = vec\n",
    "    return embeddings_ix\n",
    "            \n",
    "\n",
    "    \n",
    "\n",
    "def get_features_for_layer(X, trained_model, layer_number):\n",
    "    \"\"\"\n",
    "    :param X: Batch with dimensions according to the models first layer input-shape\n",
    "    :param trained_model: Model to extract data from\n",
    "    :param layer_number: Index of the layer we want to extract features from (usually last Conv)\n",
    "    :return:\n",
    "    \"\"\"\n",
    "\n",
    "\n",
    "    get_features = K.function([trained_model.layers[0].input, K.learning_phase()],\n",
    "                              [trained_model.layers[layer_number].output])\n",
    "    \n",
    "    features = get_features([X, 0])\n",
    "    \n",
    "    return features\n"
   ]
  },
  {
   "cell_type": "code",
   "execution_count": 11,
   "metadata": {
    "collapsed": false
   },
   "outputs": [
    {
     "data": {
      "text/plain": [
       "(171960, 7)"
      ]
     },
     "execution_count": 11,
     "metadata": {},
     "output_type": "execute_result"
    }
   ],
   "source": [
    "# 1)\n",
    "\n",
    "if PRELOAD:\n",
    "    df_rev_balanced = pd.read_csv('balanced_reviews.csv')\n",
    "else:\n",
    "    df_reviews = pd.read_csv('reviews.csv')#, encoding='utf-8')\n",
    "    df_reviews['len'] = df_reviews.text.str.len()\n",
    "    df_reviews = df_reviews[df_reviews['len'].between(10, 4000)]\n",
    "#     df_reviews = df_reviews[df_reviews.language == 'en']\n",
    "    # balancing dataset\n",
    "    df_rev_balanced = minority_balance_dataframe_by_multiple_categorical_variables(\n",
    "        df_reviews, categorical_columns=['stars'], downsample_by=0.1\n",
    "    )\n",
    "    \n",
    "    df_rev_balanced.to_csv('balanced_reviews.csv', encoding='utf-8')\n",
    "\n",
    "df_rev_balanced.shape"
   ]
  },
  {
   "cell_type": "code",
   "execution_count": 10,
   "metadata": {
    "collapsed": false
   },
   "outputs": [
    {
     "data": {
      "text/plain": [
       "stars\n",
       "1.0    Axes(0.125,0.125;0.775x0.775)\n",
       "2.0    Axes(0.125,0.125;0.775x0.775)\n",
       "3.0    Axes(0.125,0.125;0.775x0.775)\n",
       "4.0    Axes(0.125,0.125;0.775x0.775)\n",
       "5.0    Axes(0.125,0.125;0.775x0.775)\n",
       "Name: len, dtype: object"
      ]
     },
     "execution_count": 10,
     "metadata": {},
     "output_type": "execute_result"
    },
    {
     "data": {
      "image/png": "[encoded data removed]",
      "text/plain": [
       "<matplotlib.figure.Figure at 0x7fac2292c8d0>"
      ]
     },
     "metadata": {},
     "output_type": "display_data"
    }
   ],
   "source": [
    "#inspect review length for each star-group\n",
    "# df_rev_balanced['len'] = df_reviews.text.str.len()\n",
    "df_rev_balanced.groupby('stars')['len'].hist(alpha=0.1)"
   ]
  },
  {
   "cell_type": "code",
   "execution_count": 12,
   "metadata": {
    "collapsed": false
   },
   "outputs": [],
   "source": [
    "embeddings_index = load_glove_into_dict(GLOVE_DIR)"
   ]
  },
  {
   "cell_type": "code",
   "execution_count": 13,
   "metadata": {
    "collapsed": false
   },
   "outputs": [
    {
     "name": "stdout",
     "output_type": "stream",
     "text": [
      "number of words in GLOVE: 400000\n"
     ]
    }
   ],
   "source": [
    "print('number of words in GLOVE: {}'.format(len(embeddings_index)))"
   ]
  },
  {
   "cell_type": "code",
   "execution_count": 15,
   "metadata": {
    "collapsed": false
   },
   "outputs": [],
   "source": [
    "#tokenization \n",
    "\n",
    "if PRELOAD:\n",
    "    tokenizer = joblib.load('tokenizer.pickle')\n",
    "else:\n",
    "    tokenizer = Tokenizer(nb_words=MAX_NB_WORDS)\n",
    "    tokenizer.fit_on_texts(df_rev_balanced.text.tolist())\n",
    "    joblib.dump(tokenizer, 'tokenizer.pickler')\n",
    "\n",
    "WORD_INDEX_SORTED = sorted(tokenizer.word_index.items(), key=operator.itemgetter(1))"
   ]
  },
  {
   "cell_type": "code",
   "execution_count": 18,
   "metadata": {
    "collapsed": false
   },
   "outputs": [
    {
     "data": {
      "text/plain": [
       "[('the', 1),\n",
       " ('and', 2),\n",
       " ('i', 3),\n",
       " ('a', 4),\n",
       " ('to', 5),\n",
       " ('was', 6),\n",
       " ('of', 7),\n",
       " ('it', 8),\n",
       " ('for', 9),\n",
       " ('in', 10)]"
      ]
     },
     "execution_count": 18,
     "metadata": {},
     "output_type": "execute_result"
    }
   ],
   "source": [
    "WORD_INDEX_SORTED[:10]"
   ]
  },
  {
   "cell_type": "code",
   "execution_count": 58,
   "metadata": {
    "collapsed": false
   },
   "outputs": [
    {
     "data": {
      "text/plain": [
       "(20000, 100)"
      ]
     },
     "execution_count": 58,
     "metadata": {},
     "output_type": "execute_result"
    }
   ],
   "source": [
    "embedding matrix\n",
    "\n",
    "# prepare embedding matrix\n",
    "nb_words = min(MAX_NB_WORDS, len(WORD_INDEX_SORTED))\n",
    "embedding_matrix = np.zeros((nb_words, EMBEDDING_DIM))\n",
    "for word, i in tokenizer.word_index.items():\n",
    "    if i >= MAX_NB_WORDS:\n",
    "        continue\n",
    "    embedding_vector = embeddings_index.get(word)\n",
    "    if embedding_vector is not None:\n",
    "        # words not found in embedding index will be all-zeros.\n",
    "        embedding_matrix[i] = embedding_vector\n"
   ]
  },
  {
   "cell_type": "code",
   "execution_count": 82,
   "metadata": {
    "collapsed": false
   },
   "outputs": [],
   "source": [
    "# seqs = tokenizer.texts_to_sequences(df_rev_balanced.text.values)\n",
    "X = pad_sequences(seqs, maxlen=MAX_SEQUENCE_LENGTH)\n",
    "Y = df_rev_balanced.stars.values.astype(int)\n",
    "Y_cat = to_categorical(Y)\n",
    "assert X.shape[0] == Y.shape[0]"
   ]
  },
  {
   "cell_type": "code",
   "execution_count": 83,
   "metadata": {
    "collapsed": false
   },
   "outputs": [],
   "source": [
    "X_train, X_test, y_train, y_test = train_test_split(X, Y_cat, test_size=0.2)"
   ]
  },
  {
   "cell_type": "code",
   "execution_count": null,
   "metadata": {
    "collapsed": false
   },
   "outputs": [
    {
     "name": "stdout",
     "output_type": "stream",
     "text": [
      "____________________________________________________________________________________________________\n",
      "Layer (type)                     Output Shape          Param #     Connected to                     \n",
      "====================================================================================================\n",
      "embedding_23 (Embedding)         (None, 1000, 100)     0           embedding_input_23[0][0]         \n",
      "____________________________________________________________________________________________________\n",
      "gru_14 (GRU)                     (None, 1000, 100)     60300       embedding_23[0][0]               \n",
      "____________________________________________________________________________________________________\n",
      "dropout_12 (Dropout)             (None, 1000, 100)     0           gru_14[0][0]                     \n",
      "____________________________________________________________________________________________________\n",
      "gru_15 (GRU)                     (None, 100)           60300       dropout_12[0][0]                 \n",
      "____________________________________________________________________________________________________\n",
      "dropout_13 (Dropout)             (None, 100)           0           gru_15[0][0]                     \n",
      "____________________________________________________________________________________________________\n",
      "dense_21 (Dense)                 (None, 6)             606         dropout_13[0][0]                 \n",
      "====================================================================================================\n",
      "Total params: 121206\n",
      "____________________________________________________________________________________________________\n",
      "None\n",
      "Train on 137568 samples, validate on 34392 samples\n",
      "Epoch 1/40\n",
      "  7168/137568 [>.............................] - ETA: 920s - loss: 1.6485 - acc: 0.2372"
     ]
    }
   ],
   "source": [
    "filepath=\"weights-improvement-{epoch:02d}-{val_acc:.2f}.hdf5\"\n",
    "checkpoint = ModelCheckpoint(filepath, monitor='val_acc', verbose=1, save_best_only=True, mode='max')\n",
    "callbacks_list = [checkpoint]\n",
    "\n",
    "\n",
    "\n",
    "model = Sequential()\n",
    "\n",
    "model.add(Embedding(input_dim=nb_words, \n",
    "                    output_dim=EMBEDDING_DIM, \n",
    "                    input_length=MAX_SEQUENCE_LENGTH, \n",
    "                    weights=[embedding_matrix], \n",
    "                    trainable=False)\n",
    "         )\n",
    "# model.add(Convolution1D(nb_filter=128, filter_length=5, border_mode='same', activation='relu'))\n",
    "# model.add(MaxPooling1D(pool_length=2))\n",
    "model.add(GRU(100, return_sequences=True))\n",
    "model.add(Dropout(0.2))\n",
    "model.add(GRU(100))\n",
    "model.add(Dropout(0.2))\n",
    "model.add(Dense(6, activation='softmax'))\n",
    "model.compile(loss='categorical_crossentropy', optimizer='rmsprop', metrics=['accuracy'])\n",
    "print(model.summary())\n",
    "model.fit(X_train, \n",
    "          y_train, \n",
    "          nb_epoch=40, \n",
    "          batch_size=256, \n",
    "          validation_data=(X_test, y_test),\n",
    "          callbacks=callbacks_list\n",
    ")\n",
    "# Final evaluation of the model\n",
    "# scores = model.evaluate(x_test, y_test, verbose=0)\n"
   ]
  },
  {
   "cell_type": "code",
   "execution_count": 98,
   "metadata": {
    "collapsed": false,
    "scrolled": true
   },
   "outputs": [
    {
     "data": {
      "text/plain": [
       "array([1, 4, 1, 5, 2, 5, 2, 4, 5, 2])"
      ]
     },
     "execution_count": 98,
     "metadata": {},
     "output_type": "execute_result"
    }
   ],
   "source": [
    "model.predict(X_test[:10]).argmax(axis=1)"
   ]
  },
  {
   "cell_type": "code",
   "execution_count": 104,
   "metadata": {
    "collapsed": false
   },
   "outputs": [
    {
     "data": {
      "text/plain": [
       "array([1, 5, 1, 3, 2, 5, 4, 5, 5, 3])"
      ]
     },
     "execution_count": 104,
     "metadata": {},
     "output_type": "execute_result"
    }
   ],
   "source": [
    "y_test[:10].argmax(axis=1)"
   ]
  },
  {
   "cell_type": "code",
   "execution_count": 107,
   "metadata": {
    "collapsed": true
   },
   "outputs": [],
   "source": [
    "\n",
    "    "
   ]
  },
  {
   "cell_type": "code",
   "execution_count": 113,
   "metadata": {
    "collapsed": true
   },
   "outputs": [],
   "source": []
  },
  {
   "cell_type": "code",
   "execution_count": 115,
   "metadata": {
    "collapsed": false
   },
   "outputs": [],
   "source": []
  },
  {
   "cell_type": "code",
   "execution_count": 117,
   "metadata": {
    "collapsed": false
   },
   "outputs": [
    {
     "data": {
      "text/plain": [
       "(10, 100)"
      ]
     },
     "execution_count": 117,
     "metadata": {},
     "output_type": "execute_result"
    }
   ],
   "source": []
  }
 ],
 "metadata": {
  "kernelspec": {
   "display_name": "Python 2",
   "language": "python",
   "name": "python2"
  },
  "language_info": {
   "codemirror_mode": {
    "name": "ipython",
    "version": 2
   },
   "file_extension": ".py",
   "mimetype": "text/x-python",
   "name": "python",
   "nbconvert_exporter": "python",
   "pygments_lexer": "ipython2",
   "version": "2.7.12"
  }
 },
 "nbformat": 4,
 "nbformat_minor": 0
}
